{
 "cells": [
  {
   "cell_type": "markdown",
   "metadata": {},
   "source": [
    "# This is for cleaning data \n",
    "\n",
    "# Import the libraries and data\n",
    "\n",
    "### Import the libraries\n",
    "\n",
    "import pandas as pd\n",
    "import numpy as np \n",
    "import matplotlib.pyplot as plt\n",
    "\n",
    "### Import the csv\n",
    "\n",
    "To find the file path highlight the file, then press command i and then highlight the filepath that comes up, and then add the name of the file, and .csv at the end  \n",
    "\n",
    "df = pd.read_csv('/Users/rosaellis/Dropbox/001_UNISON/018_data_stories/05_May/180525_socialworkers/01_original_data/SFR09-2018-UnderlyingData.csv') \n",
    "\n"
   ]
  },
  {
   "cell_type": "markdown",
   "metadata": {},
   "source": [
    "# Inspect the data \n",
    "\n",
    "df.head() - shows top five, or whatever you put in brackets \n",
    "df.tail() - shows last five \n",
    "list (df) - shows all the columns if there are loads\n",
    "df.shape() - gives you the number of columns and rows \n",
    "df.info() - to find out if the columns are numbers or objects "
   ]
  },
  {
   "cell_type": "markdown",
   "metadata": {},
   "source": [
    "# Clean the data\n",
    "\n",
    "### Set the index\n",
    "\n",
    "df.set_index('name', inplace=True)\n",
    "\n",
    "### Clean the column headers\n",
    "\n",
    "Remove any brackets, dashes\n",
    "Replace white spaces with underscores\n",
    "\n",
    "df.columns = df.columns.str.replace(\" \",'')\n",
    "\n",
    "Make them all lower case \n",
    "df.columns = df.columns.str.lower() \n",
    "\n",
    "### Clean the columns \n",
    "Get rid of pound signs \n",
    "Get rid of commas, otherwise pandas will think it's a string not a number \n",
    "\n",
    "df.total_animals_slaughtered_10.str.replace(',','')\n",
    "\n",
    "OR\n",
    "df.parking_spaces_available_no = df.parking_spaces_available_no.str.replace(',','')\n",
    "\n",
    "\n",
    "Get rid of any white space that may have come in with the CSV. I think this is done differently depending on if the data is strings or numeric. If it is numeric use the replace method:\n",
    "\n",
    "df.total_animals_slaughtered_10.replace(' ','')\n",
    "\n",
    "### Drop some rows\n",
    "I noticed that pandas brought in some extra rows from a csv even though there was no data in them, and just made them 'NaN', to drop them do this:\n",
    "\n",
    "df.drop(df.index[266:290])\n",
    "^This is dropping from index row 266 to 281, it doesn't include 290 so I have to drop that on its own I think... \n",
    "\n",
    "### Convert the columns that should be numbers to numerical and make any non-numbers NaN\n",
    "\n",
    "cols = ['fte_number_of_childrens_social_workers',\n",
    " 'fte_cfsw_caseload_number_of_cases',\n",
    " 'fte_cfsw_caseload_average_caseload']\n",
    "df[cols] = df[cols].apply(pd.to_numeric, errors='coerce', axis=1)\n"
   ]
  },
  {
   "cell_type": "markdown",
   "metadata": {},
   "source": [
    "# Analyse the data \n",
    "\n",
    "Work out:\n",
    "The most\n",
    "The least\n",
    "The percentage change \n",
    "How much bigger one thing is than another (e.g. people in London five times as likely to x than people in Manchester)\n",
    "Any outliers\n",
    "Is trend up or down? \n",
    "CONTEXT - ALWAYS ABOUT COMPARING THE FIGURE SO PEOPLE KNOW WHAT IT MEANS - is it bigger than elsewhere? Is it bigger than last year? Is it bigger than another similar thing? \n",
    "\n",
    "## Find average, max, minimum etc\n",
    "\n",
    "### Find the maximum in a dataframe and show the index label so I know what it is\n",
    "\n",
    "df1.idxmax() (note there are two xs) "
   ]
  },
  {
   "cell_type": "markdown",
   "metadata": {},
   "source": [
    "# Combine the data\n",
    "\n",
    "Can I make the story more unique by combining it with other data? Like the index of multiple deprivation? Or population figures? "
   ]
  },
  {
   "cell_type": "markdown",
   "metadata": {},
   "source": [
    "# Working with dates and times¶\n",
    "\n",
    "### Convert a column to a datetime64 so that it can be a datetime series\n",
    "\n",
    "If the dataframe is called df and the column I want to convert is called year_month: \n",
    "\n",
    "df.year_month = pd.to_datetime(df.year_month) \n",
    "\n",
    "Then set the date column to be the index (because certain methods with datetime only work if the date is the index) \n",
    "\n",
    "df1.set_index('year_month', inplace=True)\n",
    "\n",
    "### Make a sub section of the time series\n",
    "\n",
    "Once I've made a dataframe into a time series I can grab a section of it, say the year:\n",
    "\n",
    "df1['1996']\n",
    "\n",
    "I can also do things to that, e.g.\n",
    "\n",
    "df1['1996'].mean() - will give me the average \n",
    "\n",
    "### Getting data for a different time span, e.g. if each month is a row and I want the annual data \n",
    "\n",
    "Use the resample method \n",
    "\n",
    "df_year = df1.resample('Y').sum()\n",
    "\n",
    "^ The 'Y' here means year. Then you put what you want pandas to do with the data after it. So here I put sum so it adds together the data for all 12 months, but you could use .mean() and average it instead"
   ]
  },
  {
   "cell_type": "markdown",
   "metadata": {},
   "source": [
    "# Add a row to the end of a dataframe \n",
    "\n",
    "First make the new row into its own dataframe:\n",
    "df1_march = pd.DataFrame({'year_month': ['2018-03-01'],'total_animals_slaughtered':[4288]})\n",
    "\n",
    "Then set the index so it is the same as the original df "
   ]
  }
 ],
 "metadata": {
  "kernelspec": {
   "display_name": "Python 3",
   "language": "python",
   "name": "python3"
  },
  "language_info": {
   "codemirror_mode": {
    "name": "ipython",
    "version": 3
   },
   "file_extension": ".py",
   "mimetype": "text/x-python",
   "name": "python",
   "nbconvert_exporter": "python",
   "pygments_lexer": "ipython3",
   "version": "3.6.4"
  }
 },
 "nbformat": 4,
 "nbformat_minor": 2
}
